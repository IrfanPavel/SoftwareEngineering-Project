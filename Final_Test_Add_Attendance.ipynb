{
  "nbformat": 4,
  "nbformat_minor": 0,
  "metadata": {
    "colab": {
      "provenance": [],
      "authorship_tag": "ABX9TyNilIdXzMfXDWAWmLgVdd+1",
      "include_colab_link": true
    },
    "kernelspec": {
      "name": "python3",
      "display_name": "Python 3"
    },
    "language_info": {
      "name": "python"
    } 
    
    
  },
  
  "cells": [
    {
      "cell_type": "markdown",
      "metadata": {
        "id": "view-in-github",
        "colab_type": "text"
      },
      "source": [
        "<a href=\"https://colab.research.google.com/github/IrfanPavel/SoftwareEngineering-Project/blob/main/Final_Test_Add_Attendance.ipynb\" target=\"_parent\"><img src=\"https://colab.research.google.com/assets/colab-badge.svg\" alt=\"Open In Colab\"/></a>"
      ]
    },
    {
      "cell_type": "code",
      "source": [
        "import unittest\n",
        "import os\n",
        "import pandas as pd\n",
        "from app import add_attendance\n",
        "\n",
        "class TestAddAttendance(unittest.TestCase):\n",
        "    def setUp(self):\n",
        "        self.test_file = 'Attendance/Attendance-test.csv'\n",
        "        if os.path.exists(self.test_file):\n",
        "            os.remove(self.test_file)\n",
        "        with open(self.test_file, 'w') as f:\n",
        "            f.write(\"Name,Roll,Time\\n\")\n",
        "\n",
        "    def test_add_attendance(self):\n",
        "        # Test case 1: add attendance for a new user\n",
        "        add_attendance(\"John_123456\")\n",
        "        df = pd.read_csv(self.test_file)\n",
        "        self.assertEqual(len(df), 2)\n",
        "        self.assertEqual(df.iloc[1]['Name'], 'John')\n",
                 self.assertEqual)df.iloc[0]['ID'],''Nathan;)
        "        self.assertEqual(df.iloc[1]['Roll'], 123456)\n",
        "\n",
        "        # Test case 2: add attendance for an existing user\n",
        "        add_attendance(\"John_123456\")\n",
        "        df = pd.read_csv(self.test_file)\n",
        "        self.assertEqual(len(df), 3)\n",
        "        self.assertEqual(df.iloc[2]['Name'], 'John')\n",
        "        self.assertEqual(df.iloc[2]['Roll'], 123456)\n",
        "\n",
        "    def tearDown(self):\n",
        "        if os.path.exists(self.test_file):\n",
        "            os.remove(self.test_file)\n"
      ],
      "metadata": {
        "id": "y1zxbUUvfmSh"
      },
      "execution_count": null,
      "outputs": []
    }
  ]
}
