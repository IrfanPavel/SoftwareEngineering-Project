{
  "nbformat": 4,
  "nbformat_minor": 0,
  "metadata": {
    "colab": {
      "provenance": [],
      "authorship_tag": "ABX9TyN4nfd0zxLESg+g/5wAXWa5",
      "include_colab_link": true
    },
    "kernelspec": {
      "name": "python3",
      "display_name": "Python 3"
    },
    "language_info": {
      "name": "python"
    }
  },
  "cells": [
    {
      "cell_type": "markdown",
      "metadata": {
        "id": "view-in-github",
        "colab_type": "text"
      },
      "source": [
        "<a href=\"https://colab.research.google.com/github/IrfanPavel/SoftwareEngineering-Project/blob/main/Track_Images.ipynb\" target=\"_parent\"><img src=\"https://colab.research.google.com/assets/colab-badge.svg\" alt=\"Open In Colab\"/></a>"
      ]
    },
    {
      "cell_type": "code",
      "execution_count": null,
      "metadata": {
        "id": "Pl4aDiouqkxI"
      },
      "outputs": [],
      "source": [
        "def TrackImages():\n",
        "    check_haarcascadefile()\n",
        "    assure_path_exists(\"Attendance/\")\n",
        "    assure_path_exists(\"StudentDetails/\")\n",
        "    for k in tv.get_children():\n",
        "        tv.delete(k)\n",
        "    msg = ''\n",
        "    i = 0\n",
        "    j = 0\n",
        "    recognizer = cv2.face.LBPHFaceRecognizer_create()  # cv2.createLBPHFaceRecognizer()\n",
        "    exists3 = os.path.isfile(\"TrainingImageLabel\\Trainner.yml\")\n",
        "    if exists3:\n",
        "        recognizer.read(\"TrainingImageLabel\\Trainner.yml\")\n",
        "    else:\n",
        "        mess._show(title='Data Missing', message='Please click on Save Profile to reset data!!')\n",
        "        return\n",
        "    harcascadePath = \"haarcascade_frontalface_default.xml\"\n",
        "    faceCascade = cv2.CascadeClassifier(harcascadePath);\n",
        "\n",
        "    cam = cv2.VideoCapture(0)\n",
        "    font = cv2.FONT_HERSHEY_SIMPLEX\n",
        "    col_names = ['Id', '', 'Name', '', 'Date', '', 'Time']\n",
        "    exists1 = os.path.isfile(\"StudentDetails\\StudentDetails.csv\")\n",
        "    if exists1:\n",
        "        df = pd.read_csv(\"StudentDetails\\StudentDetails.csv\")\n",
        "    else:\n",
        "        mess._show(title='Details Missing', message='Students details are missing, please check!')\n",
        "        cam.release()\n",
        "        cv2.destroyAllWindows()\n",
        "        window.destroy()\n",
        "    while True:\n",
        "        ret, im = cam.read()\n",
        "        gray = cv2.cvtColor(im, cv2.COLOR_BGR2GRAY)\n",
        "        faces = faceCascade.detectMultiScale(gray, 1.2, 5)\n",
        "        for (x, y, w, h) in faces:\n",
        "            cv2.rectangle(im, (x, y), (x + w, y + h), (225, 0, 0), 2)\n",
        "            serial, conf = recognizer.predict(gray[y:y + h, x:x + w])\n",
        "            if (conf < 50):\n",
        "                ts = time.time()\n",
        "                date = datetime.datetime.fromtimestamp(ts).strftime('%d-%m-%Y')\n",
        "                timeStamp = datetime.datetime.fromtimestamp(ts).strftime('%H:%M:%S')\n",
        "                aa = df.loc[df['SERIAL NO.'] == serial]['NAME'].values\n",
        "                ID = df.loc[df['SERIAL NO.'] == serial]['ID'].values\n",
        "                ID = str(ID)\n",
        "                ID = ID[1:-1]\n",
        "                bb = str(aa)\n",
        "                bb = bb[2:-2]\n",
        "                attendance = [str(ID), '', bb, '', str(date), '', str(timeStamp)]\n",
        "\n",
        "            else:\n",
        "                Id = 'Unknown'\n",
        "                bb = str(Id)\n",
        "            cv2.putText(im, str(bb), (x, y + h), font, 1, (255, 255, 255), 2)\n",
        "        cv2.imshow('Taking Attendance', im)\n",
        "        if (cv2.waitKey(1) == ord('q')):\n",
        "            break\n",
        "    ts = time.time()\n",
        "    date = datetime.datetime.fromtimestamp(ts).strftime('%d-%m-%Y')\n",
        "    exists = os.path.isfile(\"Attendance\\Attendance_\" + date + \".csv\")\n",
        "    if exists:\n",
        "        with open(\"Attendance\\Attendance_\" + date + \".csv\", 'a+') as csvFile1:\n",
        "            writer = csv.writer(csvFile1)\n",
        "            writer.writerow(attendance)\n",
        "        csvFile1.close()\n",
        "    else:\n",
        "        with open(\"Attendance\\Attendance_\" + date + \".csv\", 'a+') as csvFile1:\n",
        "            writer = csv.writer(csvFile1)\n",
        "            writer.writerow(col_names)\n",
        "            writer.writerow(attendance)\n",
        "        csvFile1.close()\n",
        "    with open(\"Attendance\\Attendance_\" + date + \".csv\", 'r') as csvFile1:\n",
        "        reader1 = csv.reader(csvFile1)\n",
        "        for lines in reader1:\n",
        "            i = i + 1\n",
        "            if (i > 1):\n",
        "                if (i % 2 != 0):\n",
        "                    iidd = str(lines[0]) + '   '\n",
        "                    tv.insert('', 0, text=iidd, values=(str(lines[2]), str(lines[4]), str(lines[6])))\n",
        "    csvFile1.close()\n",
        "    cam.release()\n",
        "    cv2.destroyAllWindows()\n"
      ]
    }
  ]
}