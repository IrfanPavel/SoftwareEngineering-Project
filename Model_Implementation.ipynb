{
  "nbformat": 4,
  "nbformat_minor": 0,
  "metadata": {
    "colab": {
      "provenance": [],
      "authorship_tag": "ABX9TyMAcbTdT+o4MXG0A59JJrC2",
      "include_colab_link": true
    },
    "kernelspec": {
      "name": "python3",
      "display_name": "Python 3"
    },
    "language_info": {
      "name": "python"
    }
  },
  "cells": [
    {
      "cell_type": "markdown",
      "metadata": {
        "id": "view-in-github",
        "colab_type": "text"
      },
      "source": [
        "<a href=\"https://colab.research.google.com/github/IrfanPavel/SoftwareEngineering-Project/blob/main/Model_Implementation.ipynb\" target=\"_parent\"><img src=\"https://colab.research.google.com/assets/colab-badge.svg\" alt=\"Open In Colab\"/></a>"
      ]
    },
    {
      "cell_type": "code",
      "execution_count": 1,
      "metadata": {
        "id": "IbwdrarMb_ue"
      },
      "outputs": [],
      "source": [
        "import bz2\n",
        "import os\n",
        "\n",
        "from urllib.request import urlopen\n",
        "\n",
        "def download_landmarks(dst_file):\n",
        "    url = 'http://dlib.net/files/shape_predictor_68_face_landmarks.dat.bz2'\n",
        "    decompressor = bz2.BZ2Decompressor()\n",
        "    \n",
        "    with urlopen(url) as src, open(dst_file, 'wb') as dst:\n",
        "        data = src.read(1024)\n",
        "        while len(data) > 0:\n",
        "            dst.write(decompressor.decompress(data))\n",
        "            data = src.read(1024)\n",
        "\n",
        "dst_dir = 'models'\n",
        "dst_file = os.path.join(dst_dir, 'landmarks.dat')\n",
        "\n",
        "if not os.path.exists(dst_file):\n",
        "    os.makedirs(dst_dir)\n",
        "    download_landmarks(dst_file)"
      ]
    },
    {
      "cell_type": "code",
      "source": [
        "from keras import backend as K\n",
        "from keras.models import Model\n",
        "from keras.layers import Input, Layer\n",
        "\n",
        "# Input for anchor, positive and negative images\n",
        "in_a = Input(shape=(96, 96, 3))\n",
        "in_p = Input(shape=(96, 96, 3))\n",
        "in_n = Input(shape=(96, 96, 3))\n",
        "\n",
        "# Output for anchor, positive and negative embedding vectors\n",
        "# The nn4_small model instance is shared (Siamese network)\n",
        "emb_a = nn4_small2(in_a)\n",
        "emb_p = nn4_small2(in_p)\n",
        "emb_n = nn4_small2(in_n)\n",
        "\n",
        "class TripletLossLayer(Layer):\n",
        "    def __init__(self, alpha, **kwargs):\n",
        "        self.alpha = alpha\n",
        "        super(TripletLossLayer, self).__init__(**kwargs)\n",
        "    \n",
        "    def triplet_loss(self, inputs):\n",
        "        a, p, n = inputs\n",
        "        p_dist = K.sum(K.square(a-p), axis=-1)\n",
        "        n_dist = K.sum(K.square(a-n), axis=-1)\n",
        "        return K.sum(K.maximum(p_dist - n_dist + self.alpha, 0), axis=0)\n",
        "    \n",
        "    def call(self, inputs):\n",
        "        loss = self.triplet_loss(inputs)\n",
        "        self.add_loss(loss)\n",
        "        return loss\n",
        "\n",
        "# Layer that computes the triplet loss from anchor, positive and negative embedding vectors\n",
        "triplet_loss_layer = TripletLossLayer(alpha=0.2, name='triplet_loss_layer')([emb_a, emb_p, emb_n])\n",
        "\n",
        "# Model that can be trained with anchor, positive negative images\n",
        "nn4_small2_train = Model([in_a, in_p, in_n], triplet_loss_layer)"
      ],
      "metadata": {
        "id": "Pex3oJ1SfChV"
      },
      "execution_count": null,
      "outputs": []
    },
    {
      "cell_type": "code",
      "source": [
        "from data import triplet_generator\n",
        "\n",
        "\n",
        "generator = triplet_generator() \n",
        "\n",
        "nn4_small2_train.compile(loss=None, optimizer='adam')\n",
        "nn4_small2_train.fit_generator(generator, epochs=10, steps_per_epoch=100)"
      ],
      "metadata": {
        "id": "MnylnCTnfFHs"
      },
      "execution_count": null,
      "outputs": []
    },
    {
      "cell_type": "code",
      "source": [
        "nn4_small2_pretrained = create_model()\n",
        "nn4_small2_pretrained.load_weights('weights/nn4.small2.v1.h5')"
      ],
      "metadata": {
        "id": "Dea0PMD5fLxC"
      },
      "execution_count": null,
      "outputs": []
    }
  ]
}