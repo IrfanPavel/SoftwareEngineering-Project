{
  "nbformat": 4,
  "nbformat_minor": 0,
  "metadata": {
    "colab": {
      "provenance": [],
      "authorship_tag": "ABX9TyMchytuEmP3kwSDqwv2pM3M",
      "include_colab_link": true
    },
    "kernelspec": {
      "name": "python3",
      "display_name": "Python 3"
    },
    "language_info": {
      "name": "python"
    }
  },
  "cells": [
    {
      "cell_type": "markdown",
      "metadata": {
        "id": "view-in-github",
        "colab_type": "text"
      },
      "source": [
        "<a href=\"https://colab.research.google.com/github/IrfanPavel/SoftwareEngineering-Project/blob/main/Path_Existing_checking.ipynb\" target=\"_parent\"><img src=\"https://colab.research.google.com/assets/colab-badge.svg\" alt=\"Open In Colab\"/></a>"
      ]
    },
    {
      "cell_type": "code",
      "execution_count": null,
      "metadata": {
        "id": "Pl4aDiouqkxI"
      },
      "outputs": [],
      "source": [
        "def assure_path_exists(path):\n",
        "    dir = os.path.dirname(path)\n",
        "    if not os.path.exists(dir):\n",
        "        os.makedirs(dir)\n"
      ]
    }
  ]
}