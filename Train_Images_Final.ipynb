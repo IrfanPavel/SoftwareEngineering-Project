{
  "nbformat": 4,
  "nbformat_minor": 0,
  "metadata": {
    "colab": {
      "provenance": [],
      "authorship_tag": "ABX9TyPTengU1RFUgbUF8Rg5x6nl",
      "include_colab_link": true
    },
    "kernelspec": {
      "name": "python3",
      "display_name": "Python 3"
    },
    "language_info": {
      "name": "python"
    }
  },
  "cells": [
    {
      "cell_type": "markdown",
      "metadata": {
        "id": "view-in-github",
        "colab_type": "text"
      },
      "source": [
        "<a href=\"https://colab.research.google.com/github/IrfanPavel/SoftwareEngineering-Project/blob/main/Train_Images_Final.ipynb\" target=\"_parent\"><img src=\"https://colab.research.google.com/assets/colab-badge.svg\" alt=\"Open In Colab\"/></a>"
      ]
    },
    {
      "cell_type": "code",
      "execution_count": null,
      "metadata": {
        "id": "Pl4aDiouqkxI"
      },
      "outputs": [],
      "source": [
        "def TrainImages():\n",
        "    check_haarcascadefile()\n",
        "    assure_path_exists(\"TrainingImageLabel/\")\n",
        "    recognizer = cv2.face_LBPHFaceRecognizer.create()\n",
        "    harcascadePath = \"haarcascade_frontalface_default.xml\"\n",
        "    detector = cv2.CascadeClassifier(harcascadePath)\n",
        "    faces, ID = getImagesAndLabels(\"TrainingImage\")\n",
        "    try:\n",
        "        recognizer.train(faces, np.array(ID))\n",
        "    except:\n",
        "        mess._show(title='No Registrations', message='Please Register someone first!!!')\n",
        "        return\n",
        "    recognizer.save(\"TrainingImageLabel\\Trainner.yml\")\n",
        "    res = \"Profile Saved Successfully\"\n",
        "    message1.configure(text=res)\n",
        "    message.configure(text='Total Registrations till now  : ' + str(ID[0]))"
      ]
    }
  ]
}