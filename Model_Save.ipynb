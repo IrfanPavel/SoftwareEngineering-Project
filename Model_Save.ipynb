{
  "nbformat": 4,
  "nbformat_minor": 0,
  "metadata": {
    "colab": {
      "provenance": [],
      "authorship_tag": "ABX9TyPqsUlAhFRYR9m8IKDhGbqI",
      "include_colab_link": true
    },
    "kernelspec": {
      "name": "python3",
      "display_name": "Python 3"
    },
    "language_info": {
      "name": "python"
    }
  },
  "cells": [
    {
      "cell_type": "markdown",
      "metadata": {
        "id": "view-in-github",
        "colab_type": "text"
      },
      "source": [
        "<a href=\"https://colab.research.google.com/github/IrfanPavel/SoftwareEngineering-Project/blob/main/Model_Save.ipynb\" target=\"_parent\"><img src=\"https://colab.research.google.com/assets/colab-badge.svg\" alt=\"Open In Colab\"/></a>"
      ]
    },
    {
      "cell_type": "code",
      "source": [
        "#### Identify face using ML model\n",
        "def identify_face(facearray):\n",
        "    model = joblib.load('static/face_recognition_model.pkl')\n",
        "    return model.predict(facearray)"
      ],
      "metadata": {
        "id": "y1zxbUUvfmSh"
      },
      "execution_count": null,
      "outputs": []
    }
  ]
}