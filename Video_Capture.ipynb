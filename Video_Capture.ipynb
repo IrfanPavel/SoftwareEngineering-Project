{
  "nbformat": 4,
  "nbformat_minor": 0,
  "metadata": {
    "colab": {
      "provenance": []
    },
    "kernelspec": {
      "name": "python3",
      "display_name": "Python 3"
    },
    "language_info": {
      "name": "python"
    }
  },
  "cells": [
    {
      "cell_type": "code",
      "execution_count": 1,
      "metadata": {
        "id": "IbwdrarMb_ue"
      },
      "outputs": [],
      "source": [
        "#### Initializing VideoCapture object to access WebCam\n",
        "face_detector = cv2.CascadeClassifier('static/haarcascade_frontalface_default.xml')\n",
        "cap = cv2.VideoCapture(0)\n",
        "\n",
        "\n",
        "#### If these directories don't exist, create them\n",
        "if not os.path.isdir('Attendance'):\n",
        "    os.makedirs('Attendance')\n",
        "if not os.path.isdir('static/faces'):\n",
        "    os.makedirs('static/faces')\n",
        "if f'Attendance-{datetoday}.csv' not in os.listdir('Attendance'):\n",
        "    with open(f'Attendance/Attendance-{datetoday}.csv','w') as f:\n",
        "        f.write('Name,Roll,Time')"
      ]
    }
  ]
}