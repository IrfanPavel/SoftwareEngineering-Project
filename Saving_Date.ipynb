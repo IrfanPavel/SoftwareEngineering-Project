{
  "nbformat": 4,
  "nbformat_minor": 0,
  "metadata": {
    "colab": {
      "provenance": [],
      "authorship_tag": "ABX9TyPcwdvt1hufYZZ5Ru0vRoD5",
      "include_colab_link": true
    },
    "kernelspec": {
      "name": "python3",
      "display_name": "Python 3"
    },
    "language_info": {
      "name": "python"
    }
  },
  
  
  
  "cells": [
    {
      "cell_type": "markdown",
      "metadata": {
        "id": "view-in-github",
        "colab_type": "text"
      },
      "source": [
        "<a href=\"https://colab.research.google.com/github/IrfanPavel/SoftwareEngineering-Project/blob/main/Saving_Date.ipynb\" target=\"_parent\"><img src=\"https://colab.research.google.com/assets/colab-badge.svg\" alt=\"Open In Colab\"/></a>"
      ]
    },
    {
      "cell_type": "code",
      "execution_count": 1,
      "metadata": {
        "id": "IbwdrarMb_ue"
      },
      
      
      "outputs": [],
      "source": [
        "import cv2\n",
        "import os\n",
        "from flask import Flask,request,render_template\n",
        "from datetime import date\n",
        "from datetime import datetime\n",
        "import numpy as np\n",
        "from sklearn.neighbors import KNeighborsClassifier\n",
        "import pandas as pd\n",
        "import joblib\n",
        "\n",
        "#### Defining Flask App\n",
        "app = Flask(__name__)\n",
        "\n",
        "\n",
        "#### Saving Date today in 2 different formats\n",
        "datetoday = date.today().strftime(\"%m_%d_%y\")\n",
        "datetoday2 = date.today().strftime(\"%d-%B-%Y\")\n"
      ]
    }
  ]
}
