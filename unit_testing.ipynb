{
  "nbformat": 4,
  "nbformat_minor": 0,
  "metadata": {
    "colab": {
      "provenance": [],
      "authorship_tag": "ABX9TyPOmDXUCmdPujnzWmsQ0ufV",
      "include_colab_link": true
    },
    "kernelspec": {
      "name": "python3",
      "display_name": "Python 3"
    },
    "language_info": {
      "name": "python"
    }
  },
  "cells": [
    {
      "cell_type": "markdown",
      "metadata": {
        "id": "view-in-github",
        "colab_type": "text"
      },
      "source": [
        "<a href=\"https://colab.research.google.com/github/IrfanPavel/SoftwareEngineering-Project/blob/main/unit_testing.ipynb\" target=\"_parent\"><img src=\"https://colab.research.google.com/assets/colab-badge.svg\" alt=\"Open In Colab\"/></a>"
      ]
    },
    {
      "cell_type": "code",
      "execution_count": null,
      "metadata": {
        "id": "CPumKANihA0N"
      },
      "outputs": [],
      "source": [
        "import unittest\n",
        "import app\n",
        "\n",
        "class TestUsernameAndId(unittest.TestCase):\n",
        "\n",
        "\n",
        "\n",
        "    def test_username_and_id_2(self):\n",
        "        result = app.check_username_and_id(\"Sami123\", \"1704111\")\n",
        "        self.assertEqual(result, \"Invalid username\")\n",
        " \n",
        "\n",
        "    def test_username_and_id_3(self):\n",
        "        result = app.check_username_and_id(\"\", \"1704110\")\n",
        "        self.assertEqual(result, \"Username cannot be empty\")\n",
        "\n",
        "    def test_username_and_id_4(self):\n",
        "        result = app.check_username_and_id(\"Irfan Pavel\", \"\")\n",
        "        self.assertEqual(result, \"ID cannot be empty\")\n",
        "\n",
        "    def test_username_and_id_1(self):\n",
        "        result = app.check_username_and_id(\"Irfan Pavel\", \"1704110\")\n",
        "        self.assertEqual(result, \"Successful Login\")\n",
        "\n",
        "    # def test_username_and_id_5(self):\n",
        "    #     result = app.check_username_and_id(\"\", \"\")\n",
        "    #     self.assertEqual(result, \"Both cannot be empty\")\n",
        "\n",
        "if _name_ == '_main_':\n",
        "    unittest.main()"
      ]
    }
  ]
}