{
  "nbformat": 4,
  "nbformat_minor": 0,
  "metadata": {
    "colab": {
      "provenance": [],
      "authorship_tag": "ABX9TyOGHeNcO2nLgMFh25Ijd8zX",
      "include_colab_link": true
    },
    "kernelspec": {
      "name": "python3",
      "display_name": "Python 3"
    },
    "language_info": {
      "name": "python"
    }
  },
  "cells": [
    {
      "cell_type": "markdown",
      "metadata": {
        "id": "view-in-github",
        "colab_type": "text"
      },
      "source": [
        "<a href=\"https://colab.research.google.com/github/IrfanPavel/SoftwareEngineering-Project/blob/main/Extract_Image_Function_and_Total_users.ipynb\" target=\"_parent\"><img src=\"https://colab.research.google.com/assets/colab-badge.svg\" alt=\"Open In Colab\"/></a>"
      ]
    },
    {
      "cell_type": "code",
      "execution_count": 1,
      "metadata": {
        "id": "IbwdrarMb_ue"
      },
      "outputs": [],
      "source": [
        "#### get a number of total registered users\n",
        "def totalreg():\n",
        "    return len(os.listdir('static/faces'))\n",
        "\n",
        "\n",
        "#### extract the face from an image\n",
        "def extract_faces(img):\n",
        "    gray = cv2.cvtColor(img, cv2.COLOR_BGR2GRAY)\n",
        "    face_points = face_detector.detectMultiScale(gray, 1.3, 5)\n",
        "    return face_points\n"
      ]
    }
  ]
}
